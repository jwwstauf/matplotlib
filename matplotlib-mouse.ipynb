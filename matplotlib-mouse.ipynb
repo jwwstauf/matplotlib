{
 "cells": [
  {
   "cell_type": "code",
   "execution_count": 1,
   "metadata": {},
   "outputs": [],
   "source": [
    "import matplotlib.pyplot as plt\n",
    "import pandas as pd \n",
    "import scipy.stats as st\n",
    "from scipy.stats import sem\n",
    "from numpy import median\n",
    "from numpy import arange\n",
    "\n",
    "mouse_metadata = \"data/Mouse_metadata.csv\"\n",
    "study_results = \"data/Study_results.csv\"\n",
    "\n",
    "mouse_df = pd.read_csv(mouse_metadata)\n",
    "study_df = pd.read_csv(study_results)"
   ]
  },
  {
   "cell_type": "code",
   "execution_count": 2,
   "metadata": {},
   "outputs": [
    {
     "data": {
      "text/html": [
       "<div>\n",
       "<style scoped>\n",
       "    .dataframe tbody tr th:only-of-type {\n",
       "        vertical-align: middle;\n",
       "    }\n",
       "\n",
       "    .dataframe tbody tr th {\n",
       "        vertical-align: top;\n",
       "    }\n",
       "\n",
       "    .dataframe thead th {\n",
       "        text-align: right;\n",
       "    }\n",
       "</style>\n",
       "<table border=\"1\" class=\"dataframe\">\n",
       "  <thead>\n",
       "    <tr style=\"text-align: right;\">\n",
       "      <th></th>\n",
       "      <th>Mouse ID</th>\n",
       "      <th>Timepoint</th>\n",
       "      <th>Tumor Volume (mm3)</th>\n",
       "      <th>Metastatic Sites</th>\n",
       "      <th>Drug Regimen</th>\n",
       "      <th>Sex</th>\n",
       "      <th>Age_months</th>\n",
       "      <th>Weight (g)</th>\n",
       "    </tr>\n",
       "  </thead>\n",
       "  <tbody>\n",
       "    <tr>\n",
       "      <th>0</th>\n",
       "      <td>b128</td>\n",
       "      <td>0</td>\n",
       "      <td>45.000000</td>\n",
       "      <td>0</td>\n",
       "      <td>Capomulin</td>\n",
       "      <td>Female</td>\n",
       "      <td>9</td>\n",
       "      <td>22</td>\n",
       "    </tr>\n",
       "    <tr>\n",
       "      <th>1</th>\n",
       "      <td>b128</td>\n",
       "      <td>5</td>\n",
       "      <td>45.651331</td>\n",
       "      <td>0</td>\n",
       "      <td>Capomulin</td>\n",
       "      <td>Female</td>\n",
       "      <td>9</td>\n",
       "      <td>22</td>\n",
       "    </tr>\n",
       "    <tr>\n",
       "      <th>2</th>\n",
       "      <td>b128</td>\n",
       "      <td>10</td>\n",
       "      <td>43.270852</td>\n",
       "      <td>0</td>\n",
       "      <td>Capomulin</td>\n",
       "      <td>Female</td>\n",
       "      <td>9</td>\n",
       "      <td>22</td>\n",
       "    </tr>\n",
       "    <tr>\n",
       "      <th>3</th>\n",
       "      <td>b128</td>\n",
       "      <td>15</td>\n",
       "      <td>43.784893</td>\n",
       "      <td>0</td>\n",
       "      <td>Capomulin</td>\n",
       "      <td>Female</td>\n",
       "      <td>9</td>\n",
       "      <td>22</td>\n",
       "    </tr>\n",
       "    <tr>\n",
       "      <th>4</th>\n",
       "      <td>b128</td>\n",
       "      <td>20</td>\n",
       "      <td>42.731552</td>\n",
       "      <td>0</td>\n",
       "      <td>Capomulin</td>\n",
       "      <td>Female</td>\n",
       "      <td>9</td>\n",
       "      <td>22</td>\n",
       "    </tr>\n",
       "    <tr>\n",
       "      <th>...</th>\n",
       "      <td>...</td>\n",
       "      <td>...</td>\n",
       "      <td>...</td>\n",
       "      <td>...</td>\n",
       "      <td>...</td>\n",
       "      <td>...</td>\n",
       "      <td>...</td>\n",
       "      <td>...</td>\n",
       "    </tr>\n",
       "    <tr>\n",
       "      <th>1888</th>\n",
       "      <td>m601</td>\n",
       "      <td>25</td>\n",
       "      <td>33.118756</td>\n",
       "      <td>1</td>\n",
       "      <td>Capomulin</td>\n",
       "      <td>Male</td>\n",
       "      <td>22</td>\n",
       "      <td>17</td>\n",
       "    </tr>\n",
       "    <tr>\n",
       "      <th>1889</th>\n",
       "      <td>m601</td>\n",
       "      <td>30</td>\n",
       "      <td>31.758275</td>\n",
       "      <td>1</td>\n",
       "      <td>Capomulin</td>\n",
       "      <td>Male</td>\n",
       "      <td>22</td>\n",
       "      <td>17</td>\n",
       "    </tr>\n",
       "    <tr>\n",
       "      <th>1890</th>\n",
       "      <td>m601</td>\n",
       "      <td>35</td>\n",
       "      <td>30.834357</td>\n",
       "      <td>1</td>\n",
       "      <td>Capomulin</td>\n",
       "      <td>Male</td>\n",
       "      <td>22</td>\n",
       "      <td>17</td>\n",
       "    </tr>\n",
       "    <tr>\n",
       "      <th>1891</th>\n",
       "      <td>m601</td>\n",
       "      <td>40</td>\n",
       "      <td>31.378045</td>\n",
       "      <td>1</td>\n",
       "      <td>Capomulin</td>\n",
       "      <td>Male</td>\n",
       "      <td>22</td>\n",
       "      <td>17</td>\n",
       "    </tr>\n",
       "    <tr>\n",
       "      <th>1892</th>\n",
       "      <td>m601</td>\n",
       "      <td>45</td>\n",
       "      <td>28.430964</td>\n",
       "      <td>1</td>\n",
       "      <td>Capomulin</td>\n",
       "      <td>Male</td>\n",
       "      <td>22</td>\n",
       "      <td>17</td>\n",
       "    </tr>\n",
       "  </tbody>\n",
       "</table>\n",
       "<p>1888 rows × 8 columns</p>\n",
       "</div>"
      ],
      "text/plain": [
       "     Mouse ID  Timepoint  Tumor Volume (mm3)  Metastatic Sites Drug Regimen  \\\n",
       "0        b128          0           45.000000                 0    Capomulin   \n",
       "1        b128          5           45.651331                 0    Capomulin   \n",
       "2        b128         10           43.270852                 0    Capomulin   \n",
       "3        b128         15           43.784893                 0    Capomulin   \n",
       "4        b128         20           42.731552                 0    Capomulin   \n",
       "...       ...        ...                 ...               ...          ...   \n",
       "1888     m601         25           33.118756                 1    Capomulin   \n",
       "1889     m601         30           31.758275                 1    Capomulin   \n",
       "1890     m601         35           30.834357                 1    Capomulin   \n",
       "1891     m601         40           31.378045                 1    Capomulin   \n",
       "1892     m601         45           28.430964                 1    Capomulin   \n",
       "\n",
       "         Sex  Age_months  Weight (g)  \n",
       "0     Female           9          22  \n",
       "1     Female           9          22  \n",
       "2     Female           9          22  \n",
       "3     Female           9          22  \n",
       "4     Female           9          22  \n",
       "...      ...         ...         ...  \n",
       "1888    Male          22          17  \n",
       "1889    Male          22          17  \n",
       "1890    Male          22          17  \n",
       "1891    Male          22          17  \n",
       "1892    Male          22          17  \n",
       "\n",
       "[1888 rows x 8 columns]"
      ]
     },
     "execution_count": 2,
     "metadata": {},
     "output_type": "execute_result"
    }
   ],
   "source": [
    "combined_df = study_df.merge(mouse_df, on=\"Mouse ID\", how=\"outer\")\n",
    "combined_df = combined_df.drop_duplicates(subset=['Mouse ID', 'Timepoint'], keep=\"first\")\n",
    "combined_df"
   ]
  },
  {
   "cell_type": "code",
   "execution_count": 3,
   "metadata": {},
   "outputs": [
    {
     "data": {
      "text/html": [
       "<div>\n",
       "<style scoped>\n",
       "    .dataframe tbody tr th:only-of-type {\n",
       "        vertical-align: middle;\n",
       "    }\n",
       "\n",
       "    .dataframe tbody tr th {\n",
       "        vertical-align: top;\n",
       "    }\n",
       "\n",
       "    .dataframe thead th {\n",
       "        text-align: right;\n",
       "    }\n",
       "</style>\n",
       "<table border=\"1\" class=\"dataframe\">\n",
       "  <thead>\n",
       "    <tr style=\"text-align: right;\">\n",
       "      <th></th>\n",
       "      <th>mean</th>\n",
       "      <th>std</th>\n",
       "      <th>SEM</th>\n",
       "      <th>Variance</th>\n",
       "      <th>Median</th>\n",
       "    </tr>\n",
       "    <tr>\n",
       "      <th>Drug Regimen</th>\n",
       "      <th></th>\n",
       "      <th></th>\n",
       "      <th></th>\n",
       "      <th></th>\n",
       "      <th></th>\n",
       "    </tr>\n",
       "  </thead>\n",
       "  <tbody>\n",
       "    <tr>\n",
       "      <th>Capomulin</th>\n",
       "      <td>40.675741</td>\n",
       "      <td>4.994774</td>\n",
       "      <td>0.329346</td>\n",
       "      <td>24.947764</td>\n",
       "      <td>41.557809</td>\n",
       "    </tr>\n",
       "    <tr>\n",
       "      <th>Ceftamin</th>\n",
       "      <td>52.591172</td>\n",
       "      <td>6.268188</td>\n",
       "      <td>0.469821</td>\n",
       "      <td>39.290177</td>\n",
       "      <td>51.776157</td>\n",
       "    </tr>\n",
       "    <tr>\n",
       "      <th>Infubinol</th>\n",
       "      <td>52.884795</td>\n",
       "      <td>6.567243</td>\n",
       "      <td>0.492236</td>\n",
       "      <td>43.128684</td>\n",
       "      <td>51.820584</td>\n",
       "    </tr>\n",
       "    <tr>\n",
       "      <th>Ketapril</th>\n",
       "      <td>55.235638</td>\n",
       "      <td>8.279709</td>\n",
       "      <td>0.603860</td>\n",
       "      <td>68.553577</td>\n",
       "      <td>53.698743</td>\n",
       "    </tr>\n",
       "    <tr>\n",
       "      <th>Naftisol</th>\n",
       "      <td>54.331565</td>\n",
       "      <td>8.134708</td>\n",
       "      <td>0.596466</td>\n",
       "      <td>66.173479</td>\n",
       "      <td>52.509285</td>\n",
       "    </tr>\n",
       "    <tr>\n",
       "      <th>Placebo</th>\n",
       "      <td>54.033581</td>\n",
       "      <td>7.821003</td>\n",
       "      <td>0.581331</td>\n",
       "      <td>61.168083</td>\n",
       "      <td>52.288934</td>\n",
       "    </tr>\n",
       "    <tr>\n",
       "      <th>Propriva</th>\n",
       "      <td>52.393463</td>\n",
       "      <td>6.568014</td>\n",
       "      <td>0.525862</td>\n",
       "      <td>43.138803</td>\n",
       "      <td>50.909965</td>\n",
       "    </tr>\n",
       "    <tr>\n",
       "      <th>Ramicane</th>\n",
       "      <td>40.216745</td>\n",
       "      <td>4.846308</td>\n",
       "      <td>0.320955</td>\n",
       "      <td>23.486704</td>\n",
       "      <td>40.673236</td>\n",
       "    </tr>\n",
       "    <tr>\n",
       "      <th>Stelasyn</th>\n",
       "      <td>54.233149</td>\n",
       "      <td>7.710419</td>\n",
       "      <td>0.573111</td>\n",
       "      <td>59.450562</td>\n",
       "      <td>52.431737</td>\n",
       "    </tr>\n",
       "    <tr>\n",
       "      <th>Zoniferol</th>\n",
       "      <td>53.236507</td>\n",
       "      <td>6.966589</td>\n",
       "      <td>0.516398</td>\n",
       "      <td>48.533355</td>\n",
       "      <td>51.818479</td>\n",
       "    </tr>\n",
       "  </tbody>\n",
       "</table>\n",
       "</div>"
      ],
      "text/plain": [
       "                   mean       std       SEM   Variance     Median\n",
       "Drug Regimen                                                     \n",
       "Capomulin     40.675741  4.994774  0.329346  24.947764  41.557809\n",
       "Ceftamin      52.591172  6.268188  0.469821  39.290177  51.776157\n",
       "Infubinol     52.884795  6.567243  0.492236  43.128684  51.820584\n",
       "Ketapril      55.235638  8.279709  0.603860  68.553577  53.698743\n",
       "Naftisol      54.331565  8.134708  0.596466  66.173479  52.509285\n",
       "Placebo       54.033581  7.821003  0.581331  61.168083  52.288934\n",
       "Propriva      52.393463  6.568014  0.525862  43.138803  50.909965\n",
       "Ramicane      40.216745  4.846308  0.320955  23.486704  40.673236\n",
       "Stelasyn      54.233149  7.710419  0.573111  59.450562  52.431737\n",
       "Zoniferol     53.236507  6.966589  0.516398  48.533355  51.818479"
      ]
     },
     "execution_count": 3,
     "metadata": {},
     "output_type": "execute_result"
    }
   ],
   "source": [
    "summary_stats_df = combined_df.groupby(\"Drug Regimen\")\n",
    "descriptive_stats_df = summary_stats_df['Tumor Volume (mm3)'].describe()\n",
    "sem_df = combined_df.groupby(\"Drug Regimen\").sem()\n",
    "descriptive_stats_df['SEM'] = sem_df['Tumor Volume (mm3)']\n",
    "descriptive_stats_df['Variance'] = (descriptive_stats_df['std'])**2\n",
    "median_df = combined_df.groupby(\"Drug Regimen\").median()\n",
    "descriptive_stats_df[\"Median\"] = median_df['Tumor Volume (mm3)']\n",
    "descriptive_stats_df = descriptive_stats_df.drop(['count', 'min', '25%', '50%', '75%', 'max'], axis=1)\n",
    "descriptive_stats_df\n"
   ]
  },
  {
   "cell_type": "code",
   "execution_count": 69,
   "metadata": {},
   "outputs": [
    {
     "data": {
      "text/plain": [
       "<matplotlib.axes._subplots.AxesSubplot at 0x24ea293db70>"
      ]
     },
     "execution_count": 69,
     "metadata": {},
     "output_type": "execute_result"
    },
    {
     "data": {
      "image/png": "[encoded data removed]",
      "text/plain": [
       "<Figure size 432x288 with 1 Axes>"
      ]
     },
     "metadata": {
      "needs_background": "light"
     },
     "output_type": "display_data"
    }
   ],
   "source": [
    "timepoint_count_df = combined_df.groupby(\"Drug Regimen\").count()\n",
    "timepoint_count_df['Mouse ID'].plot(kind='bar', title='Number of Experiment Subjects in Each Treatment Group')"
   ]
  },
  {
   "cell_type": "code",
   "execution_count": 67,
   "metadata": {},
   "outputs": [
    {
     "data": {
      "text/plain": [
       "Text(0, 0.5, 'Participant Group')"
      ]
     },
     "execution_count": 67,
     "metadata": {},
     "output_type": "execute_result"
    },
    {
     "data": {
      "image/png": "[encoded data removed]",
      "text/plain": [
       "<Figure size 432x288 with 1 Axes>"
      ]
     },
     "metadata": {
      "needs_background": "light"
     },
     "output_type": "display_data"
    }
   ],
   "source": [
    "x_axis = arange(len(timepoint_count_df['Mouse ID']))\n",
    "plt.bar(x_axis, timepoint_count_df['Mouse ID'], color='b', align='center')\n",
    "indexes = timepoint_count_df.index\n",
    "indexes = ['Capomulin', 'Ceftamin', 'Infubinol', 'Ketapril', 'Naftisol', 'Placebo',\n",
    "       'Propriva', 'Ramicane', 'Stelasyn', 'Zoniferol']\n",
    "plt.xticks(x_axis, indexes, rotation='vertical')\n",
    "plt.title('Number of Experiment Subjects in Each Treatment Group')\n",
    "plt.xlabel('Treatment Group')\n",
    "plt.ylabel('Participant Group')"
   ]
  },
  {
   "cell_type": "code",
   "execution_count": 68,
   "metadata": {},
   "outputs": [
    {
     "data": {
      "text/plain": [
       "<matplotlib.axes._subplots.AxesSubplot at 0x24ea2ca42e8>"
      ]
     },
     "execution_count": 68,
     "metadata": {},
     "output_type": "execute_result"
    },
    {
     "data": {
      "image/png": "[encoded data removed]",
      "text/plain": [
       "<Figure size 432x288 with 1 Axes>"
      ]
     },
     "metadata": {},
     "output_type": "display_data"
    }
   ],
   "source": [
    "sex_df = combined_df.groupby('Sex').nunique(1)\n",
    "sex_df\n",
    "sex_df['Mouse ID'].plot(kind='pie', title=\"Distribution of Male and Female Rats in the Study\")\n"
   ]
  },
  {
   "cell_type": "code",
   "execution_count": 65,
   "metadata": {},
   "outputs": [
    {
     "data": {
      "text/plain": [
       "Text(0.5, 1.0, 'Distribution of Male and Female Rats in the Study')"
      ]
     },
     "execution_count": 65,
     "metadata": {},
     "output_type": "execute_result"
    },
    {
     "data": {
      "image/png": "[encoded data removed]",
      "text/plain": [
       "<Figure size 432x288 with 1 Axes>"
      ]
     },
     "metadata": {},
     "output_type": "display_data"
    }
   ],
   "source": [
    "plt.pie(sex_df['Mouse ID'], labels=['Female', 'Male'], autopct=\"%1.1f%%\")\n",
    "plt.title(\"Distribution of Male and Female Rats in the Study\")"
   ]
  },
  {
   "cell_type": "code",
   "execution_count": 48,
   "metadata": {},
   "outputs": [
    {
     "name": "stdout",
     "output_type": "stream",
     "text": [
      "Mouse ID              100\n",
      "Timepoint              10\n",
      "Tumor Volume (mm3)    715\n",
      "Metastatic Sites        5\n",
      "Drug Regimen            4\n",
      "Sex                     2\n",
      "Age_months             23\n",
      "Weight (g)             16\n",
      "dtype: int64\n"
     ]
    },
    {
     "data": {
      "text/html": [
       "<div>\n",
       "<style scoped>\n",
       "    .dataframe tbody tr th:only-of-type {\n",
       "        vertical-align: middle;\n",
       "    }\n",
       "\n",
       "    .dataframe tbody tr th {\n",
       "        vertical-align: top;\n",
       "    }\n",
       "\n",
       "    .dataframe thead th {\n",
       "        text-align: right;\n",
       "    }\n",
       "</style>\n",
       "<table border=\"1\" class=\"dataframe\">\n",
       "  <thead>\n",
       "    <tr style=\"text-align: right;\">\n",
       "      <th></th>\n",
       "      <th>index</th>\n",
       "      <th>Mouse ID</th>\n",
       "      <th>Timepoint</th>\n",
       "      <th>Tumor Volume (mm3)</th>\n",
       "      <th>Metastatic Sites</th>\n",
       "      <th>Drug Regimen</th>\n",
       "      <th>Sex</th>\n",
       "      <th>Age_months</th>\n",
       "      <th>Weight (g)</th>\n",
       "    </tr>\n",
       "  </thead>\n",
       "  <tbody>\n",
       "    <tr>\n",
       "      <th>0</th>\n",
       "      <td>907</td>\n",
       "      <td>a203</td>\n",
       "      <td>45</td>\n",
       "      <td>67.973419</td>\n",
       "      <td>2</td>\n",
       "      <td>Infubinol</td>\n",
       "      <td>Female</td>\n",
       "      <td>20</td>\n",
       "      <td>23</td>\n",
       "    </tr>\n",
       "    <tr>\n",
       "      <th>1</th>\n",
       "      <td>289</td>\n",
       "      <td>a251</td>\n",
       "      <td>45</td>\n",
       "      <td>65.525743</td>\n",
       "      <td>1</td>\n",
       "      <td>Infubinol</td>\n",
       "      <td>Female</td>\n",
       "      <td>21</td>\n",
       "      <td>25</td>\n",
       "    </tr>\n",
       "    <tr>\n",
       "      <th>2</th>\n",
       "      <td>1487</td>\n",
       "      <td>a275</td>\n",
       "      <td>45</td>\n",
       "      <td>62.999356</td>\n",
       "      <td>3</td>\n",
       "      <td>Ceftamin</td>\n",
       "      <td>Female</td>\n",
       "      <td>20</td>\n",
       "      <td>28</td>\n",
       "    </tr>\n",
       "    <tr>\n",
       "      <th>3</th>\n",
       "      <td>470</td>\n",
       "      <td>a411</td>\n",
       "      <td>45</td>\n",
       "      <td>38.407618</td>\n",
       "      <td>1</td>\n",
       "      <td>Ramicane</td>\n",
       "      <td>Male</td>\n",
       "      <td>3</td>\n",
       "      <td>22</td>\n",
       "    </tr>\n",
       "    <tr>\n",
       "      <th>4</th>\n",
       "      <td>480</td>\n",
       "      <td>a444</td>\n",
       "      <td>45</td>\n",
       "      <td>43.047543</td>\n",
       "      <td>0</td>\n",
       "      <td>Ramicane</td>\n",
       "      <td>Female</td>\n",
       "      <td>10</td>\n",
       "      <td>25</td>\n",
       "    </tr>\n",
       "    <tr>\n",
       "      <th>...</th>\n",
       "      <td>...</td>\n",
       "      <td>...</td>\n",
       "      <td>...</td>\n",
       "      <td>...</td>\n",
       "      <td>...</td>\n",
       "      <td>...</td>\n",
       "      <td>...</td>\n",
       "      <td>...</td>\n",
       "      <td>...</td>\n",
       "    </tr>\n",
       "    <tr>\n",
       "      <th>95</th>\n",
       "      <td>1374</td>\n",
       "      <td>y769</td>\n",
       "      <td>45</td>\n",
       "      <td>68.594745</td>\n",
       "      <td>4</td>\n",
       "      <td>Ceftamin</td>\n",
       "      <td>Female</td>\n",
       "      <td>6</td>\n",
       "      <td>27</td>\n",
       "    </tr>\n",
       "    <tr>\n",
       "      <th>96</th>\n",
       "      <td>1814</td>\n",
       "      <td>y793</td>\n",
       "      <td>45</td>\n",
       "      <td>31.896238</td>\n",
       "      <td>2</td>\n",
       "      <td>Capomulin</td>\n",
       "      <td>Male</td>\n",
       "      <td>17</td>\n",
       "      <td>17</td>\n",
       "    </tr>\n",
       "    <tr>\n",
       "      <th>97</th>\n",
       "      <td>1364</td>\n",
       "      <td>y865</td>\n",
       "      <td>45</td>\n",
       "      <td>64.729837</td>\n",
       "      <td>3</td>\n",
       "      <td>Ceftamin</td>\n",
       "      <td>Male</td>\n",
       "      <td>23</td>\n",
       "      <td>26</td>\n",
       "    </tr>\n",
       "    <tr>\n",
       "      <th>98</th>\n",
       "      <td>646</td>\n",
       "      <td>z578</td>\n",
       "      <td>45</td>\n",
       "      <td>30.638696</td>\n",
       "      <td>0</td>\n",
       "      <td>Ramicane</td>\n",
       "      <td>Male</td>\n",
       "      <td>11</td>\n",
       "      <td>16</td>\n",
       "    </tr>\n",
       "    <tr>\n",
       "      <th>99</th>\n",
       "      <td>279</td>\n",
       "      <td>z581</td>\n",
       "      <td>45</td>\n",
       "      <td>62.754451</td>\n",
       "      <td>3</td>\n",
       "      <td>Infubinol</td>\n",
       "      <td>Female</td>\n",
       "      <td>24</td>\n",
       "      <td>25</td>\n",
       "    </tr>\n",
       "  </tbody>\n",
       "</table>\n",
       "<p>100 rows × 9 columns</p>\n",
       "</div>"
      ],
      "text/plain": [
       "    index Mouse ID  Timepoint  Tumor Volume (mm3)  Metastatic Sites  \\\n",
       "0     907     a203         45           67.973419                 2   \n",
       "1     289     a251         45           65.525743                 1   \n",
       "2    1487     a275         45           62.999356                 3   \n",
       "3     470     a411         45           38.407618                 1   \n",
       "4     480     a444         45           43.047543                 0   \n",
       "..    ...      ...        ...                 ...               ...   \n",
       "95   1374     y769         45           68.594745                 4   \n",
       "96   1814     y793         45           31.896238                 2   \n",
       "97   1364     y865         45           64.729837                 3   \n",
       "98    646     z578         45           30.638696                 0   \n",
       "99    279     z581         45           62.754451                 3   \n",
       "\n",
       "   Drug Regimen     Sex  Age_months  Weight (g)  \n",
       "0     Infubinol  Female          20          23  \n",
       "1     Infubinol  Female          21          25  \n",
       "2      Ceftamin  Female          20          28  \n",
       "3      Ramicane    Male           3          22  \n",
       "4      Ramicane  Female          10          25  \n",
       "..          ...     ...         ...         ...  \n",
       "95     Ceftamin  Female           6          27  \n",
       "96    Capomulin    Male          17          17  \n",
       "97     Ceftamin    Male          23          26  \n",
       "98     Ramicane    Male          11          16  \n",
       "99    Infubinol  Female          24          25  \n",
       "\n",
       "[100 rows x 9 columns]"
      ]
     },
     "execution_count": 48,
     "metadata": {},
     "output_type": "execute_result"
    }
   ],
   "source": [
    "#create a dataframe with only data from the four treatment groups of interest\n",
    "subset_df = combined_df.loc[(combined_df['Drug Regimen'] == 'Capomulin') | (combined_df['Drug Regimen'] == \"Ramicane\") | (combined_df['Drug Regimen'] == 'Infubinol') | (combined_df['Drug Regimen'] == 'Ceftamin')]\n",
    "#find the index of the max timepoint for each mouse id\n",
    "max_indexes_df = subset_df.groupby('Mouse ID').idxmax(axis=1)\n",
    "\n",
    "#double check the number of unique mouse id's in this treatment (should match the length of the final dataframe)\n",
    "print(subset_df.nunique())\n",
    "\n",
    "#create a list of the max timepoints\n",
    "max_timepoint_index = max_indexes_df['Timepoint']\n",
    "max_timepoint_index\n",
    "\n",
    "#create a dataframe with the indexes of the max timepoints for each mouse\n",
    "max_timepoint_df = combined_df.loc[max_timepoint_index, :]\n",
    "max_timepoint_df.reset_index()"
   ]
  },
  {
   "cell_type": "code",
   "execution_count": 64,
   "metadata": {},
   "outputs": [
    {
     "name": "stdout",
     "output_type": "stream",
     "text": [
      "The lower quartile of tumor volume (mm3) in the Infubinol treatment group is 54.05\n",
      "The upper quartile of tumor volume (mm3) in the Infubinol treatment group is 65.53\n",
      "The median of tumor volume (mm3) in the Infubinol treatment group is 60.17\n",
      "The IQR of tumor volume (mm3) in the Infubinol treatment group is 11.48\n",
      "The Upper Bound of tumor volume (mm3) in the Infubinol treatment group is 82.74\n",
      "The Lower Bound of tumor volume (mm3) in the Infubinol treatment group is 36.83\n",
      "    Mouse ID  Timepoint  Tumor Volume (mm3)  Metastatic Sites Drug Regimen  \\\n",
      "214     c326          5           36.321346                 0    Infubinol   \n",
      "\n",
      "        Sex  Age_months  Weight (g)  \n",
      "214  Female          18          25  \n"
     ]
    }
   ],
   "source": [
    "infubinol_df = max_timepoint_df[max_timepoint_df['Drug Regimen']=='Infubinol']\n",
    "infubinol_quartiles = infubinol_df['Tumor Volume (mm3)'].quantile([.25,.5,.75])\n",
    "\n",
    "inf_lowerq = infubinol_quartiles[.25]\n",
    "inf_upperq = infubinol_quartiles[.75]\n",
    "inf_median = infubinol_quartiles[.5]\n",
    "inf_iqr = inf_upperq - inf_lowerq\n",
    "inf_upper_bound = inf_upperq + (1.5*inf_iqr)\n",
    "inf_lower_bound = inf_lowerq - (1.5*inf_iqr)\n",
    "\n",
    "print(f\"The lower quartile of tumor volume (mm3) in the Infubinol treatment group is {round(inf_lowerq,2)}\")\n",
    "print(f\"The upper quartile of tumor volume (mm3) in the Infubinol treatment group is {round(inf_upperq, 2)}\")\n",
    "print(f\"The median of tumor volume (mm3) in the Infubinol treatment group is {round(inf_median, 2)}\")\n",
    "print(f\"The IQR of tumor volume (mm3) in the Infubinol treatment group is {round(inf_iqr, 2)}\")\n",
    "\n",
    "print(f\"The Upper Bound of tumor volume (mm3) in the Infubinol treatment group is {round(inf_upper_bound, 2)}\")\n",
    "print(f\"The Lower Bound of tumor volume (mm3) in the Infubinol treatment group is {round(inf_lower_bound, 2)}\")\n",
    "inf_outliers = infubinol_df.loc[(infubinol_df['Tumor Volume (mm3)'] < inf_lower_bound) | (infubinol_df['Tumor Volume (mm3)'] > inf_upper_bound)]\n",
    "print(inf_outliers)"
   ]
  },
  {
   "cell_type": "code",
   "execution_count": 50,
   "metadata": {},
   "outputs": [
    {
     "name": "stdout",
     "output_type": "stream",
     "text": [
      "The lower quartile of tumor volume (mm3) in the Capomulin treatment group is 32.38\n",
      "The upper quartile of tumor volume (mm3) in the Capomulin treatment group is 40.16\n",
      "The median of tumor volume (mm3) in the Capomulin treatment group is 38.13\n",
      "The IQR of tumor volume (mm3) in the Capomulin treatment group is 7.78\n",
      "The Upper Bound of tumor volume (mm3) in the Capomulin treatment group is 51.83\n",
      "The Lower Bound of tumor volume (mm3) in the Capomulin treatment group is 20.7\n",
      "Empty DataFrame\n",
      "Columns: [Mouse ID, Timepoint, Tumor Volume (mm3), Metastatic Sites, Drug Regimen, Sex, Age_months, Weight (g)]\n",
      "Index: []\n"
     ]
    }
   ],
   "source": [
    "capomulin_df = max_timepoint_df[max_timepoint_df['Drug Regimen']=='Capomulin']\n",
    "capomulin_quartiles = capomulin_df['Tumor Volume (mm3)'].quantile([.25,.5,.75])\n",
    "\n",
    "cap_lowerq = capomulin_quartiles[.25]\n",
    "cap_upperq = capomulin_quartiles[.75]\n",
    "cap_median = capomulin_quartiles[.5]\n",
    "cap_iqr = cap_upperq - cap_lowerq\n",
    "cap_upper_bound = cap_upperq + (1.5*cap_iqr)\n",
    "cap_lower_bound = cap_lowerq - (1.5*cap_iqr)\n",
    "\n",
    "print(f\"The lower quartile of tumor volume (mm3) in the Capomulin treatment group is {round(cap_lowerq,2)}\")\n",
    "print(f\"The upper quartile of tumor volume (mm3) in the Capomulin treatment group is {round(cap_upperq, 2)}\")\n",
    "print(f\"The median of tumor volume (mm3) in the Capomulin treatment group is {round(cap_median, 2)}\")\n",
    "print(f\"The IQR of tumor volume (mm3) in the Capomulin treatment group is {round(cap_iqr, 2)}\")\n",
    "\n",
    "print(f\"The Upper Bound of tumor volume (mm3) in the Capomulin treatment group is {round(cap_upper_bound, 2)}\")\n",
    "print(f\"The Lower Bound of tumor volume (mm3) in the Capomulin treatment group is {round(cap_lower_bound, 2)}\")\n",
    "cap_outliers = capomulin_df.loc[(capomulin_df['Tumor Volume (mm3)'] < cap_lower_bound) | (capomulin_df['Tumor Volume (mm3)'] > cap_upper_bound)]\n",
    "print(cap_outliers)"
   ]
  },
  {
   "cell_type": "code",
   "execution_count": 51,
   "metadata": {},
   "outputs": [
    {
     "name": "stdout",
     "output_type": "stream",
     "text": [
      "The lower quartile of tumor volume (mm3) in the Ramicane treatment group is 31.56\n",
      "The upper quartile of tumor volume (mm3) in the Ramicane treatment group is 40.66\n",
      "The median of tumor volume (mm3) in the Ramicane treatment group is 36.56\n",
      "The IQR of tumor volume (mm3) in the Ramicane treatment group is 9.1\n",
      "The Upper Bound of tumor volume (mm3) in the Ramicane treatment group is 54.31\n",
      "The Lower Bound of tumor volume (mm3) in the Ramicane treatment group is 17.91\n",
      "Empty DataFrame\n",
      "Columns: [Mouse ID, Timepoint, Tumor Volume (mm3), Metastatic Sites, Drug Regimen, Sex, Age_months, Weight (g)]\n",
      "Index: []\n"
     ]
    }
   ],
   "source": [
    "ramicane_df = max_timepoint_df[max_timepoint_df['Drug Regimen']=='Ramicane']\n",
    "ramicane_quartiles = ramicane_df['Tumor Volume (mm3)'].quantile([.25,.5,.75])\n",
    "\n",
    "ram_lowerq = ramicane_quartiles[.25]\n",
    "ram_upperq = ramicane_quartiles[.75]\n",
    "ram_median = ramicane_quartiles[.5]\n",
    "ram_iqr = ram_upperq - ram_lowerq\n",
    "ram_upper_bound = ram_upperq + (1.5*ram_iqr)\n",
    "ram_lower_bound = ram_lowerq - (1.5*ram_iqr)\n",
    "\n",
    "print(f\"The lower quartile of tumor volume (mm3) in the Ramicane treatment group is {round(ram_lowerq,2)}\")\n",
    "print(f\"The upper quartile of tumor volume (mm3) in the Ramicane treatment group is {round(ram_upperq, 2)}\")\n",
    "print(f\"The median of tumor volume (mm3) in the Ramicane treatment group is {round(ram_median, 2)}\")\n",
    "print(f\"The IQR of tumor volume (mm3) in the Ramicane treatment group is {round(ram_iqr, 2)}\")\n",
    "\n",
    "print(f\"The Upper Bound of tumor volume (mm3) in the Ramicane treatment group is {round(ram_upper_bound, 2)}\")\n",
    "print(f\"The Lower Bound of tumor volume (mm3) in the Ramicane treatment group is {round(ram_lower_bound, 2)}\")\n",
    "ram_outliers = ramicane_df.loc[(ramicane_df['Tumor Volume (mm3)'] < ram_lower_bound) | (ramicane_df['Tumor Volume (mm3)'] > ram_upper_bound)]\n",
    "print(ram_outliers)"
   ]
  },
  {
   "cell_type": "code",
   "execution_count": 52,
   "metadata": {},
   "outputs": [
    {
     "name": "stdout",
     "output_type": "stream",
     "text": [
      "The lower quartile of tumor volume (mm3) in the Ceftamin treatment group is 48.72\n",
      "The upper quartile of tumor volume (mm3) in the Ceftamin treatment group is 64.3\n",
      "The median of tumor volume (mm3) in the Ceftamin treatment group is 59.85\n",
      "The IQR of tumor volume (mm3) in the Ceftamin treatment group is 15.58\n",
      "The Upper Bound of tumor volume (mm3) in the Ceftamin treatment group is 87.67\n",
      "The Lower Bound of tumor volume (mm3) in the Ceftamin treatment group is 25.36\n",
      "Empty DataFrame\n",
      "Columns: [Mouse ID, Timepoint, Tumor Volume (mm3), Metastatic Sites, Drug Regimen, Sex, Age_months, Weight (g)]\n",
      "Index: []\n"
     ]
    }
   ],
   "source": [
    "ceftamin_df = max_timepoint_df[max_timepoint_df['Drug Regimen']=='Ceftamin']\n",
    "ceftamin_quartiles = ceftamin_df['Tumor Volume (mm3)'].quantile([.25,.5,.75])\n",
    "\n",
    "ceft_lowerq = ceftamin_quartiles[.25]\n",
    "ceft_upperq = ceftamin_quartiles[.75]\n",
    "ceft_median = ceftamin_quartiles[.5]\n",
    "ceft_iqr = ceft_upperq - ceft_lowerq\n",
    "ceft_upper_bound = ceft_upperq + (1.5*ceft_iqr)\n",
    "ceft_lower_bound = ceft_lowerq - (1.5*ceft_iqr)\n",
    "\n",
    "print(f\"The lower quartile of tumor volume (mm3) in the Ceftamin treatment group is {round(ceft_lowerq,2)}\")\n",
    "print(f\"The upper quartile of tumor volume (mm3) in the Ceftamin treatment group is {round(ceft_upperq, 2)}\")\n",
    "print(f\"The median of tumor volume (mm3) in the Ceftamin treatment group is {round(ceft_median, 2)}\")\n",
    "print(f\"The IQR of tumor volume (mm3) in the Ceftamin treatment group is {round(ceft_iqr, 2)}\")\n",
    "\n",
    "print(f\"The Upper Bound of tumor volume (mm3) in the Ceftamin treatment group is {round(ceft_upper_bound, 2)}\")\n",
    "print(f\"The Lower Bound of tumor volume (mm3) in the Ceftamin treatment group is {round(ceft_lower_bound, 2)}\")\n",
    "ceft_outliers = ceftamin_df.loc[(ceftamin_df['Tumor Volume (mm3)'] < ceft_lower_bound) | (ceftamin_df['Tumor Volume (mm3)'] > ceft_upper_bound)]\n",
    "print(ceft_outliers)"
   ]
  },
  {
   "cell_type": "code",
   "execution_count": 63,
   "metadata": {},
   "outputs": [
    {
     "data": {
      "text/plain": [
       "Text(0.5, 0, 'Drug Treatment')"
      ]
     },
     "execution_count": 63,
     "metadata": {},
     "output_type": "execute_result"
    },
    {
     "data": {
      "image/png": "[encoded data removed]",
      "text/plain": [
       "<Figure size 432x288 with 1 Axes>"
      ]
     },
     "metadata": {
      "needs_background": "light"
     },
     "output_type": "display_data"
    }
   ],
   "source": [
    "fig1, ax1 = plt.subplots()\n",
    "ax1.boxplot([infubinol_df['Tumor Volume (mm3)'],capomulin_df['Tumor Volume (mm3)'], ramicane_df['Tumor Volume (mm3)'], ceftamin_df['Tumor Volume (mm3)']], labels=[\"Infubinol\", \"Capomulin\", \"Ramicane\", \"Ceftamin\"])\n",
    "ax1.set_title(\"Tumor Volume (mm3) Across Drug Treatments\")\n",
    "ax1.set_ylabel(\"Tumor Volume (mm3)\")\n",
    "ax1.set_xlabel(\"Drug Treatment\")"
   ]
  },
  {
   "cell_type": "code",
   "execution_count": 76,
   "metadata": {},
   "outputs": [
    {
     "data": {
      "text/plain": [
       "Text(0.5, 1.0, 'Mouse Y793 Tumor Volume Over Time While Being Treated With Capomulin')"
      ]
     },
     "execution_count": 76,
     "metadata": {},
     "output_type": "execute_result"
    },
    {
     "data": {
      "image/png": "[encoded data removed]",
      "text/plain": [
       "<Figure size 432x288 with 1 Axes>"
      ]
     },
     "metadata": {
      "needs_background": "light"
     },
     "output_type": "display_data"
    }
   ],
   "source": [
    "y793_df = combined_df.loc[combined_df['Mouse ID'] == 'y793']\n",
    "y793_df\n",
    "plt.plot(y793_df['Timepoint'], y793_df['Tumor Volume (mm3)'])\n",
    "plt.xlabel('Timepoint')\n",
    "plt.ylabel('Tumor Volume (mm3)')\n",
    "plt.title('Mouse Y793 Tumor Volume Over Time While Being Treated With Capomulin')"
   ]
  },
  {
   "cell_type": "code",
   "execution_count": 104,
   "metadata": {},
   "outputs": [
    {
     "data": {
      "text/plain": [
       "Text(0, 0.5, 'Tumor Volume (mm3)')"
      ]
     },
     "execution_count": 104,
     "metadata": {},
     "output_type": "execute_result"
    },
    {
     "data": {
      "image/png": "[encoded data removed]",
      "text/plain": [
       "<Figure size 432x288 with 1 Axes>"
      ]
     },
     "metadata": {
      "needs_background": "light"
     },
     "output_type": "display_data"
    }
   ],
   "source": [
    "capomulin_df2 = combined_df.loc[combined_df['Drug Regimen'] == 'Capomulin']\n",
    "capomulin_grouped_df = capomulin_df2.groupby('Mouse ID').mean()\n",
    "capomulin_grouped_df\n",
    "plt.scatter(capomulin_grouped_df['Weight (g)'], capomulin_grouped_df['Tumor Volume (mm3)'])\n",
    "plt.title('Average Tumor Volume (mm3) vs. Weight (g) in Mice Treated with Capomulin')\n",
    "plt.xlabel('Weight (g)')\n",
    "plt.ylabel('Tumor Volume (mm3)')"
   ]
  },
  {
   "cell_type": "code",
   "execution_count": 86,
   "metadata": {},
   "outputs": [
    {
     "name": "stdout",
     "output_type": "stream",
     "text": [
      "The correlation between tumor volume and weight in mice treated with Capomulin is 0.84\n"
     ]
    }
   ],
   "source": [
    "correlation = st.pearsonr(capomulin_grouped_df['Weight (g)'], capomulin_grouped_df['Tumor Volume (mm3)'])\n",
    "print(f'The correlation between tumor volume and weight in mice treated with Capomulin is {round(correlation[0], 2)}')"
   ]
  },
  {
   "cell_type": "code",
   "execution_count": 103,
   "metadata": {},
   "outputs": [
    {
     "name": "stdout",
     "output_type": "stream",
     "text": [
      "y = 0.95x + 21.55\n",
      "The r-squared value is: 0.71\n"
     ]
    },
    {
     "data": {
      "image/png": "[encoded data removed]",
      "text/plain": [
       "<Figure size 432x288 with 1 Axes>"
      ]
     },
     "metadata": {
      "needs_background": "light"
     },
     "output_type": "display_data"
    }
   ],
   "source": [
    "(slope, intercept, rvalue, pvalue, stderr) = st.linregress(capomulin_grouped_df['Weight (g)'], capomulin_grouped_df['Tumor Volume (mm3)'])\n",
    "regress_values = capomulin_grouped_df['Weight (g)']*slope +intercept\n",
    "line_eq = \"y = \" + str(round(slope,2)) + \"x + \" + str(round(intercept,2))\n",
    "plt.scatter(capomulin_grouped_df['Weight (g)'], capomulin_grouped_df['Tumor Volume (mm3)'])\n",
    "plt.plot(capomulin_grouped_df['Weight (g)'],regress_values, \"r-\")\n",
    "plt.xlabel('Weight (g)')\n",
    "plt.ylabel('Tumor Volume (mm3)')\n",
    "plt.title('Average Tumor Volume (mm3) vs. Weight (g) in Mice Treated with Capomulin')\n",
    "print(line_eq)\n",
    "print(f'The r-squared value is: {round(rvalue**2,2)}')\n",
    "plt.show()"
   ]
  },
  {
   "cell_type": "markdown",
   "metadata": {},
   "source": [
    "# Conclusions\n",
    "1. Capomulin and Ramicane seem to be more effective drug treatments compared to Ceftamin and Infubinol as mice in those treatment groups have lower median tumor volume in their final timepoint measurement. Between Capomulin and Ramicane, there does not appear to be a highly significant difference although the Ramicane treatment group does have a slightly lower median tumor volume at the final measurement.\n",
    "2. In the Capomulin treatment, as can be observed in the scatterplot above, it is clear there is a strong correlation between weight and tumor volume. This could point to a potential limitation of the study, although more analysis would be required. If the weight's of mice are not equally varied across the treatment groups, this could inhibit the comparison of final tumor volume as the group with heavier mice would likely have larger tumors even if the treatment was equally effective.\n",
    "3. The distribution of the sexes in this study is relatively equal. The results of this study can likely be generalized across sexes of mice due to equal distribution of sexes in this study. An additional area of future research would be to compare if there were any differences in efficacy in sex within treatment groups. \n"
   ]
  }
 ],
 "metadata": {
  "kernelspec": {
   "display_name": "Python [conda env:PythonData] *",
   "language": "python",
   "name": "conda-env-PythonData-py"
  },
  "language_info": {
   "codemirror_mode": {
    "name": "ipython",
    "version": 3
   },
   "file_extension": ".py",
   "mimetype": "text/x-python",
   "name": "python",
   "nbconvert_exporter": "python",
   "pygments_lexer": "ipython3",
   "version": "3.6.10"
  }
 },
 "nbformat": 4,
 "nbformat_minor": 4
}
